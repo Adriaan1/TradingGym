{
 "cells": [
  {
   "cell_type": "code",
   "execution_count": null,
   "metadata": {},
   "outputs": [],
   "source": [
    "%matplotlib notebook\n",
    "import matplotlib.pyplot as plt\n",
    "import matplotlib.dates as mdates\n",
    "import numpy as np\n",
    "import math\n",
    "import time\n",
    "import pandas as pd\n",
    "\n",
    "from TradingGym.OrderFlow import OrderFlow, readTxt\n",
    "from TradingGym.Strategy import SpreadStrategy\n",
    "from TradingGym.Backtester import Backtester"
   ]
  },
  {
   "cell_type": "code",
   "execution_count": null,
   "metadata": {},
   "outputs": [],
   "source": [
    "hdf_path = '../../Data/Si-3.18/hdf5/Si-3_18.h5'"
   ]
  },
  {
   "cell_type": "code",
   "execution_count": null,
   "metadata": {},
   "outputs": [],
   "source": [
    "keys = []\n",
    "with pd.HDFStore(hdf_path) as store:\n",
    "    keys = store.keys()\n",
    "print(keys)"
   ]
  },
  {
   "cell_type": "code",
   "execution_count": null,
   "metadata": {},
   "outputs": [],
   "source": [
    "flow = OrderFlow()\n",
    "flow.df = pd.read_hdf(hdf_path, key=keys[0])"
   ]
  },
  {
   "cell_type": "code",
   "execution_count": null,
   "metadata": {},
   "outputs": [],
   "source": [
    "backtest = Backtester(flow, SpreadStrategy(1, 100))"
   ]
  },
  {
   "cell_type": "code",
   "execution_count": null,
   "metadata": {},
   "outputs": [],
   "source": [
    "ts, position, r_pnl, ur_pnl = backtest.run(10**6)"
   ]
  },
  {
   "cell_type": "code",
   "execution_count": null,
   "metadata": {},
   "outputs": [],
   "source": [
    "def plot(panel, title, col):\n",
    "    assert(len(panel) == len(col))\n",
    "    fig = plt.figure()\n",
    "    ax = fig.add_subplot(111)\n",
    "    ax.set_title(title)\n",
    "    for idx in range(len(panel)):\n",
    "        ax.plot(panel[idx][0], panel[idx][1], col[idx])\n",
    "\n",
    "    hours = mdates.HourLocator()   # every hour\n",
    "    hoursFmt = mdates.DateFormatter('')\n",
    "    ax.xaxis.set_major_locator(hours)\n",
    "    ax.xaxis.set_major_formatter(hoursFmt)\n",
    "\n",
    "    minutes = mdates.MinuteLocator(interval=10)  # every 10 minutes\n",
    "    minutesFmt = mdates.DateFormatter('%D %H:%M')\n",
    "    ax.xaxis.set_minor_locator(minutes)\n",
    "    ax.xaxis.set_minor_formatter(minutesFmt)\n",
    "\n",
    "    plt.setp(ax.xaxis.get_minorticklabels(), size=8, rotation=20)\n",
    "    plt.setp(ax.xaxis.get_majorticklabels(), rotation=90)\n",
    "\n",
    "    fig.tight_layout()\n",
    "    fig.show()"
   ]
  },
  {
   "cell_type": "code",
   "execution_count": null,
   "metadata": {},
   "outputs": [],
   "source": [
    "plot([[ts, position]], 'Position', ['r'])"
   ]
  },
  {
   "cell_type": "code",
   "execution_count": null,
   "metadata": {},
   "outputs": [],
   "source": [
    "plot([\n",
    "        [ts, [x + y for x,y in zip(r_pnl, ur_pnl)]],\n",
    "        [ts, r_pnl]\n",
    "    ],\n",
    "    'PnL', ['r', 'g'])"
   ]
  }
 ],
 "metadata": {
  "kernelspec": {
   "display_name": "Python 3",
   "language": "python",
   "name": "python3"
  },
  "language_info": {
   "codemirror_mode": {
    "name": "ipython",
    "version": 3
   },
   "file_extension": ".py",
   "mimetype": "text/x-python",
   "name": "python",
   "nbconvert_exporter": "python",
   "pygments_lexer": "ipython3",
   "version": "3.6.4"
  }
 },
 "nbformat": 4,
 "nbformat_minor": 2
}
