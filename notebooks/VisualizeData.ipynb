{
 "cells": [
  {
   "cell_type": "code",
   "execution_count": null,
   "metadata": {},
   "outputs": [],
   "source": [
    "%matplotlib notebook\n",
    "import matplotlib.pyplot as plt\n",
    "import matplotlib.dates as mdates\n",
    "import math\n",
    "import time\n",
    "import pandas as pd\n",
    "\n",
    "from TradingGym.OrderFlow import OrderFlow, readTxt\n",
    "from TradingGym.OrderBook import OrderBook"
   ]
  },
  {
   "cell_type": "code",
   "execution_count": null,
   "metadata": {},
   "outputs": [],
   "source": [
    "hdf_path = '../../Data/Si-3.18/hdf5/Si-3_18.h5'"
   ]
  },
  {
   "cell_type": "code",
   "execution_count": null,
   "metadata": {},
   "outputs": [],
   "source": [
    "keys = []\n",
    "with pd.HDFStore(hdf_path) as store:\n",
    "    keys = store.keys()\n",
    "print(keys)"
   ]
  },
  {
   "cell_type": "code",
   "execution_count": null,
   "metadata": {},
   "outputs": [],
   "source": [
    "flow = OrderFlow()\n",
    "flow.df = pd.read_hdf(hdf_path, key=keys[0])"
   ]
  },
  {
   "cell_type": "code",
   "execution_count": null,
   "metadata": {},
   "outputs": [],
   "source": [
    "book = OrderBook()"
   ]
  },
  {
   "cell_type": "code",
   "execution_count": null,
   "metadata": {},
   "outputs": [],
   "source": [
    "max_length = 10**5\n",
    "right_before_trading = flow.df[flow.df.Flags.str.contains('Snapshot')].iloc[-1]\n",
    "trading_start = flow.df.iloc[right_before_trading.name + 1]\n",
    "trading_end = flow.df.iloc[min(max_length + trading_start.name, len(flow.df)) - 1]\n",
    "total_time = trading_end.ExchTime.value - trading_start.ExchTime.value\n",
    "start = trading_start.name\n",
    "end = trading_end.name\n",
    "step = 0.1 # in seconds\n",
    "width = 100 # bp around mid price to show"
   ]
  },
  {
   "cell_type": "code",
   "execution_count": null,
   "metadata": {},
   "outputs": [],
   "source": [
    "def BookIter(end):\n",
    "    for idx in range(end):\n",
    "        book.update(flow.df.iloc[idx])\n",
    "        yield book, flow.df.iloc[idx]"
   ]
  },
  {
   "cell_type": "code",
   "execution_count": null,
   "metadata": {},
   "outputs": [],
   "source": [
    "bookIter = BookIter(end)"
   ]
  },
  {
   "cell_type": "code",
   "execution_count": null,
   "metadata": {},
   "outputs": [],
   "source": [
    "for idx in range(start):\n",
    "    next(bookIter)"
   ]
  },
  {
   "cell_type": "code",
   "execution_count": null,
   "metadata": {},
   "outputs": [],
   "source": [
    "plt.ion()\n",
    "fig = plt.figure()\n",
    "ax = fig.add_subplot(111)\n",
    "fig.show()\n",
    "fig.canvas.draw()"
   ]
  },
  {
   "cell_type": "code",
   "execution_count": null,
   "metadata": {},
   "outputs": [],
   "source": [
    "tooSlow = False\n",
    "for book, message in bookIter:\n",
    "    if not 'EndOfTransaction' in message.Flags:\n",
    "        continue\n",
    "        \n",
    "    stTime = time.process_time()\n",
    "    \n",
    "    midPrice = (max(book.book[0].keys()) + min(book.book[1].keys())) / 2\n",
    "\n",
    "    ax.clear()\n",
    "    ax.set_xlim((midPrice - width / 2, midPrice + width / 2))\n",
    "    ax.set_ylim((0, 8))\n",
    "\n",
    "    bar1 = ax.bar([x for x in book.book[0].keys()], [math.log(x) for x in book.book[0].values()], color='r')\n",
    "    bar2 = ax.bar([x for x in book.book[1].keys()], [math.log(x) for x in book.book[1].values()], color='b')\n",
    "    ax.set_title(str(message.ExchTime))\n",
    "    \n",
    "    fig.canvas.draw()\n",
    "    enTime = time.process_time()\n",
    "    remaining = step - enTime + stTime\n",
    "    if (remaining < 0 and not tooSlow):\n",
    "        print(\"Warning: the plot is too slow: {} vs. {:.4f}\".format(step, enTime - stTime))\n",
    "        tooSlow = True\n",
    "    time.sleep(max(0, remaining))"
   ]
  },
  {
   "cell_type": "code",
   "execution_count": null,
   "metadata": {},
   "outputs": [],
   "source": [
    "ts = []\n",
    "prices = []\n",
    "book = OrderBook()\n",
    "\n",
    "percentage_done = 0.0\n",
    "\n",
    "print('Started simulation from time: {}'.format(trading_start.ExchTime))\n",
    "print('Planned end time: {}'.format(trading_end.ExchTime))\n",
    "        \n",
    "for name, deal in flow.df.iterrows():\n",
    "    if name > end:\n",
    "        break\n",
    "    book.update(deal)\n",
    "    if (name >= start and 'EndOfTransaction' in deal.Flags):\n",
    "        ts.append(deal.ExchTime)\n",
    "        \n",
    "        midPrice = (max(book.book[0].keys()) + min(book.book[1].keys())) / 2\n",
    "        prices.append(midPrice)\n",
    "    \n",
    "    new_percentage_done = 100.0 - (trading_end.ExchTime.value - deal.ExchTime.value) / total_time * 100\n",
    "    if (new_percentage_done > percentage_done + 1.0):\n",
    "        percentage_done = new_percentage_done\n",
    "        print('Done {:.0f}%'.format(percentage_done))"
   ]
  },
  {
   "cell_type": "code",
   "execution_count": null,
   "metadata": {},
   "outputs": [],
   "source": [
    "def plot(panel, title, col, inter):\n",
    "    assert(len(panel) == len(col))\n",
    "    fig = plt.figure()\n",
    "    ax = fig.add_subplot(111)\n",
    "    ax.set_title(title)\n",
    "    for idx in range(len(panel)):\n",
    "        ax.plot(panel[idx][0], panel[idx][1], col[idx])\n",
    "\n",
    "    hours = mdates.HourLocator()   # every hour\n",
    "    hoursFmt = mdates.DateFormatter('')\n",
    "    ax.xaxis.set_major_locator(hours)\n",
    "    ax.xaxis.set_major_formatter(hoursFmt)\n",
    "\n",
    "    minutes = mdates.MinuteLocator(interval=inter)  # every 10 minutes\n",
    "    minutesFmt = mdates.DateFormatter('%D %H:%M')\n",
    "    ax.xaxis.set_minor_locator(minutes)\n",
    "    ax.xaxis.set_minor_formatter(minutesFmt)\n",
    "\n",
    "    plt.setp(ax.xaxis.get_minorticklabels(), size=8, rotation=20)\n",
    "    plt.setp(ax.xaxis.get_majorticklabels(), rotation=90)\n",
    "\n",
    "    fig.tight_layout()\n",
    "    fig.show()"
   ]
  },
  {
   "cell_type": "code",
   "execution_count": null,
   "metadata": {},
   "outputs": [],
   "source": [
    "plot([[ts, prices]], 'Prices', ['r'], 10)"
   ]
  }
 ],
 "metadata": {
  "kernelspec": {
   "display_name": "Python 3",
   "language": "python",
   "name": "python3"
  },
  "language_info": {
   "codemirror_mode": {
    "name": "ipython",
    "version": 3
   },
   "file_extension": ".py",
   "mimetype": "text/x-python",
   "name": "python",
   "nbconvert_exporter": "python",
   "pygments_lexer": "ipython3",
   "version": "3.6.4"
  }
 },
 "nbformat": 4,
 "nbformat_minor": 2
}
