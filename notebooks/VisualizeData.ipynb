{
 "cells": [
  {
   "cell_type": "code",
   "execution_count": null,
   "metadata": {},
   "outputs": [],
   "source": [
    "%matplotlib notebook\n",
    "import matplotlib.pyplot as plt\n",
    "import math\n",
    "import time\n",
    "\n",
    "from TradingGym.OrderFlow import OrderFlow, readTxt\n",
    "from TradingGym.OrderBook import OrderBook"
   ]
  },
  {
   "cell_type": "code",
   "execution_count": null,
   "metadata": {},
   "outputs": [],
   "source": [
    "import sys"
   ]
  },
  {
   "cell_type": "code",
   "execution_count": null,
   "metadata": {},
   "outputs": [],
   "source": [
    "flow = OrderFlow()\n",
    "flow.df =  readTxt('../../Data/Si-3.18/txt/Si-3.18.2017-11-16.OrdLog.{1-OrdLog}.txt')"
   ]
  },
  {
   "cell_type": "code",
   "execution_count": null,
   "metadata": {},
   "outputs": [],
   "source": [
    "book = OrderBook()"
   ]
  },
  {
   "cell_type": "code",
   "execution_count": null,
   "metadata": {},
   "outputs": [],
   "source": [
    "start = 10**4 + 10**3\n",
    "end = 10**4 + 2 * 10**3\n",
    "step = 0.1 # in seconds\n",
    "width = 50 # bp around mid price to show"
   ]
  },
  {
   "cell_type": "code",
   "execution_count": null,
   "metadata": {},
   "outputs": [],
   "source": [
    "def BookIter(end):\n",
    "    for idx in range(end):\n",
    "        book.update(flow.df.iloc[idx])\n",
    "        yield book, flow.df.iloc[idx]"
   ]
  },
  {
   "cell_type": "code",
   "execution_count": null,
   "metadata": {},
   "outputs": [],
   "source": [
    "bookIter = BookIter(end)"
   ]
  },
  {
   "cell_type": "code",
   "execution_count": null,
   "metadata": {},
   "outputs": [],
   "source": [
    "for idx in range(start):\n",
    "    next(bookIter)"
   ]
  },
  {
   "cell_type": "code",
   "execution_count": null,
   "metadata": {},
   "outputs": [],
   "source": [
    "plt.ion()\n",
    "fig = plt.figure()\n",
    "ax = fig.add_subplot(111)\n",
    "fig.show()\n",
    "fig.canvas.draw()"
   ]
  },
  {
   "cell_type": "code",
   "execution_count": null,
   "metadata": {},
   "outputs": [],
   "source": [
    "tooSlow = False\n",
    "for book, message in bookIter:\n",
    "    if not 'EndOfTransaction' in message.Flags:\n",
    "        continue\n",
    "        \n",
    "    stTime = time.process_time()\n",
    "    \n",
    "    midPrice = (max(book.book[0].keys()) + min(book.book[1].keys())) / 2\n",
    "\n",
    "    ax.clear()\n",
    "    ax.set_xlim((midPrice - width / 2, midPrice + width / 2))\n",
    "    ax.set_ylim((0, 8))\n",
    "\n",
    "    bar1 = ax.bar([x for x in book.book[0].keys()], [math.log(x) for x in book.book[0].values()], color='r')\n",
    "    bar2 = ax.bar([x for x in book.book[1].keys()], [math.log(x) for x in book.book[1].values()], color='b')\n",
    "    ax.set_title(str(message.ExchTime))\n",
    "    \n",
    "    fig.canvas.draw()\n",
    "    enTime = time.process_time()\n",
    "    remaining = step - enTime + stTime\n",
    "    if (remaining < 0 and not tooSlow):\n",
    "        print(\"Warning: the plot is too slow: {} vs. {:.4f}\".format(step, enTime - stTime))\n",
    "        tooSlow = True\n",
    "    time.sleep(max(0, remaining))"
   ]
  }
 ],
 "metadata": {
  "kernelspec": {
   "display_name": "Python 3",
   "language": "python",
   "name": "python3"
  },
  "language_info": {
   "codemirror_mode": {
    "name": "ipython",
    "version": 3
   },
   "file_extension": ".py",
   "mimetype": "text/x-python",
   "name": "python",
   "nbconvert_exporter": "python",
   "pygments_lexer": "ipython3",
   "version": "3.6.4"
  }
 },
 "nbformat": 4,
 "nbformat_minor": 2
}
